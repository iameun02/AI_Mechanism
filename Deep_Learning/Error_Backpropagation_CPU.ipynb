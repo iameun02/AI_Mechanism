{
  "cells": [
    {
      "attachments": {},
      "cell_type": "markdown",
      "metadata": {
        "id": "byhbXk3LWB-5"
      },
      "source": [
        "\n",
        "1. <b> Forward propagation (전방향) </b><br>\n",
        "학습 방법 (파라미터 업데이트) : 𝒘 = 𝒘− 𝛄(𝞉 𝒆𝒓𝒓𝒐𝒓/ 𝞉 𝒘) <br>\n",
        "수치미분을 통해  𝛄(𝞉 𝒆𝒓𝒓𝒐𝒓/ 𝞉 𝒘) 값을 작은값으로 처리 해준 것 <br>\n",
        "BUT, parameter수가 증가시 수치미분으로 가능한가 ? <br>\n",
        "가능은 하지만 경사하강법을 수행시 미분을 해야하는데, <br>\n",
        "파라미터당 미분에 걸리는 시간이 너무 오래걸림 <br>\n",
        " \n",
        "<br>\n",
        "\n",
        "2. <b>  역전파 알고리즘  </b><br>\n",
        "우린 미분이아니라, 학습을 하고 싶은 것이니 (목표 : Learning) 미분을 수행 하지않고 학습에 필요한 경사값(Gradient) 즉,미분값을 얻어보자.  \n",
        "- 필요 기술요소 \n",
        "   1. <b> 미분의 연쇄법칙 (Chain Rule)</b> : 합성함수를 미분은 합성함수를 구성하는 개별함수 미분의 곱으로 처리\n",
        "      (편미분을 구할때 겉미분, 속미분 절차가 각각 개별함수의 미분의 곱 처리 절차였다.)\n",
        "    - 신경망 모델은 합성함수다.\n",
        "     - 합성함수 <br> \n",
        "       𝒚𝒉𝒂𝒕₁ : 𝒔𝒊𝒈𝒎𝒐𝒊𝒅(𝒘𝒙+𝒃) <br>\n",
        "       𝒚𝒉𝒂𝒕₂ : 𝒔𝒊𝒈𝒎𝒐𝒊𝒅( 𝒘 * 𝒚𝒉𝒂𝒕₁ + 𝒃) <br>\n",
        "       = 𝒔𝒊𝒈𝒎𝒐𝒊𝒅( 𝒘 * (𝒔𝒊𝒈𝒎𝒐𝒊𝒅(𝒘𝒙+𝒃)) + 𝒃)  <br>\n",
        "       𝒚𝒉𝒂𝒕₃ : 𝒔𝒊𝒈𝒎𝒐𝒊𝒅( 𝒘 * 𝒚𝒉𝒂𝒕₂ + 𝒃) <br>\n",
        "\n",
        "        [합성곱 예시]\n",
        "\n",
        "          𝑻 = 3𝒙 + 4𝒚 <br>\n",
        "          𝒛 = 𝒕² <br>\n",
        "          𝞉𝒛 / 𝞉𝒕 = 2𝒕 <br>\n",
        "          𝞉𝒕  /𝞉𝒙 = 3 <br>\n",
        "          (𝞉𝒛 / 𝞉𝒕) * (𝞉𝒕  /𝞉𝒙) = 2𝒕 * 3 = 2(3𝒙 + 4𝒚) +3 <br>\n",
        "          = 6(3𝒙 + 4𝒚) <br><br>\n",
        "      \n",
        "  2. <b> Error Backpropagation </b> <br>\n",
        "\n",
        "    - step1. forward propagation에서 얻은 에러 ```(𝒚 - 𝒚𝒉𝒂𝒕)``` <br>\n",
        "      - 초기 w 파라미터 값은 랜덤값으로 지정되어 미분 필요 없음  <br> \n",
        "      -  단, 로컬미니멈에 빠질 수 있어 랜덤값도 여러번 수행 해보는 것이 좋다. <br> <br>\n",
        "  \n",
        "    - step2. 연쇄법칙을 적용하여 가중치(𝒘) 업데이트  <br>\n",
        "            ```𝒘 = 𝒘 - 𝛄 * 오차값 * 출력값(1-출력값) * 입력값``` <br>\n",
        "\n",
        "    - step3. 얼마나 에러가 감소하였는지 평가  <br><br>\n",
        "     <br>\n",
        "\n",
        "    [역전파 예시]\n",
        "\n",
        "       𝒆𝒓𝒓𝒐𝒓/ 𝞉 𝒘₁ 의 미분 값은 아래와 같이 3개의 합성함수 미분의 곱으로 처리 가능\n",
        "    = 오차값 편미분 • 출력값 편미분 • 입력값 편미분  <br>\n",
        "    = (𝞉 𝒆𝒓𝒓𝒐𝒓 / 𝞉𝒚₂) • (𝞉 𝒚₂ / 𝞉 𝒘𝒔 )• (𝞉 𝒘𝒔 / 𝞉 𝒘) <br>\n",
        "    = (𝒚𝒉𝒂𝒕₂ - 𝒚₂) • 𝒚𝒉𝒂𝒕₂(1-𝒚𝒉𝒂𝒕₂) •  𝒚𝒉𝒂𝒕₁ <br>\n",
        "\n",
        "        ⬇︎ \n",
        "    <br>\n",
        "  \n",
        "  - 입력값(𝞉𝒘𝒔) 의 미분값 = 이전 노드의 출력값(= 즉 해당노드의 입력값) <br>\n",
        "  - 출력값(𝞉𝒚₂) 의 미분값 = 출력값 * (1 - 출력값) <br>\n",
        "    = 𝒔𝒊𝒈𝒎𝒐𝒊𝒅(𝒙) * (1- 𝒔𝒊𝒈𝒎𝒐𝒊𝒅(𝒙))  <br> \n",
        "  - 오차값(𝞉 𝒆𝒓𝒓𝒐𝒓)의 미분값 : 오차값 <br>\n",
        "\n",
        "<br><br>\n",
        "\n",
        "          결론 : 오차값 * 출력값(1-출력값) * 입력값이\n",
        "          순전파의 (𝞉 𝒆𝒓𝒓𝒐𝒓/ 𝞉 𝒘) 미분값을 대체하게 됨 \n",
        "          이때 오차 값은 back propagation을 통해 전달받음 \n",
        "          이로인해 연산시간의 문제점은 해결!\n",
        "  \n",
        "\n",
        "<br><br>\n",
        "\n",
        "참고\n",
        " - 𝞡 : w,b 모두포함\n",
        " - 1 epoch : 순전파가고 오차구해서 (미분하지않고) <br> 역전파를 통해 학습량 구하기 까지가 1 epoch"
      ]
    },
    {
      "cell_type": "markdown",
      "metadata": {
        "id": "vwjWOMkD48K3"
      },
      "source": [
        "# Error Backpropagation"
      ]
    },
    {
      "cell_type": "code",
      "execution_count": null,
      "metadata": {
        "id": "RbPgODpVzdHI"
      },
      "outputs": [],
      "source": [
        "import warnings\n",
        "warnings.filterwarnings('ignore')"
      ]
    },
    {
      "cell_type": "markdown",
      "metadata": {
        "id": "V_6gF3Tyc6ld"
      },
      "source": [
        "# I. 실습용 데이터 생성"
      ]
    },
    {
      "cell_type": "code",
      "execution_count": null,
      "metadata": {
        "id": "nmamcLBR42N2"
      },
      "outputs": [],
      "source": [
        "import numpy as np\n",
        "np.set_printoptions(suppress = True, precision = 3)"
      ]
    },
    {
      "cell_type": "markdown",
      "metadata": {
        "id": "XCLxRaYr5jMs"
      },
      "source": [
        "> ## 1) Input : X (4 * 3)"
      ]
    },
    {
      "cell_type": "code",
      "execution_count": null,
      "metadata": {
        "colab": {
          "base_uri": "https://localhost:8080/"
        },
        "id": "t4rTAUgV5M8C",
        "outputId": "12552a40-8a14-4f42-fb16-293a9d4a8259"
      },
      "outputs": [
        {
          "data": {
            "text/plain": [
              "array([[0, 0, 1],\n",
              "       [0, 1, 1],\n",
              "       [1, 0, 1],\n",
              "       [1, 1, 1]])"
            ]
          },
          "execution_count": 3,
          "metadata": {},
          "output_type": "execute_result"
        }
      ],
      "source": [
        "X = np.array([[0, 0, 1],\n",
        "              [0, 1, 1],\n",
        "              [1, 0, 1],\n",
        "              [1, 1, 1]])\n",
        "\n",
        "X"
      ]
    },
    {
      "cell_type": "markdown",
      "metadata": {
        "id": "nhGtxn345nAt"
      },
      "source": [
        "> ## 2) Output : y (4 * 1)"
      ]
    },
    {
      "cell_type": "code",
      "execution_count": null,
      "metadata": {
        "colab": {
          "base_uri": "https://localhost:8080/"
        },
        "id": "AFUnqwG35qPl",
        "outputId": "30077fae-d9e9-4f56-d68c-aed6e7dabd7d"
      },
      "outputs": [
        {
          "data": {
            "text/plain": [
              "array([[0.],\n",
              "       [1.],\n",
              "       [1.],\n",
              "       [0.]])"
            ]
          },
          "execution_count": 4,
          "metadata": {},
          "output_type": "execute_result"
        }
      ],
      "source": [
        "y = np.array([0., 1., 1., 0.]).reshape(4, 1)\n",
        "\n",
        "y"
      ]
    },
    {
      "cell_type": "markdown",
      "metadata": {
        "id": "hJjELb_W59N4"
      },
      "source": [
        "> ## 3) W1 (3 * 4)"
      ]
    },
    {
      "cell_type": "code",
      "execution_count": null,
      "metadata": {
        "colab": {
          "base_uri": "https://localhost:8080/"
        },
        "id": "Cmaybr756MSU",
        "outputId": "fab59820-a5a7-47db-9a60-aa7834ec4f11"
      },
      "outputs": [
        {
          "data": {
            "text/plain": [
              "array([[0.844, 0.886, 0.139, 0.061],\n",
              "       [0.192, 0.532, 0.155, 0.827],\n",
              "       [0.92 , 0.015, 0.49 , 0.692]])"
            ]
          },
          "execution_count": 5,
          "metadata": {},
          "output_type": "execute_result"
        }
      ],
      "source": [
        "np.random.seed(2045)\n",
        "W1 = np.random.rand(3, 4)\n",
        "\n",
        "W1"
      ]
    },
    {
      "cell_type": "markdown",
      "metadata": {
        "id": "MUZD1cbH6jKn"
      },
      "source": [
        "> ## 4) W2 (4 * 1)"
      ]
    },
    {
      "cell_type": "code",
      "execution_count": null,
      "metadata": {
        "colab": {
          "base_uri": "https://localhost:8080/"
        },
        "id": "gR4bBud36kZA",
        "outputId": "01eb40a8-4471-43c3-d1e4-3e029cc5066c"
      },
      "outputs": [
        {
          "data": {
            "text/plain": [
              "array([[0.895],\n",
              "       [0.596],\n",
              "       [0.436],\n",
              "       [0.153]])"
            ]
          },
          "execution_count": 6,
          "metadata": {},
          "output_type": "execute_result"
        }
      ],
      "source": [
        "np.random.seed(2046)\n",
        "W2 = np.random.rand(4)\n",
        "\n",
        "W2 = W2.reshape(4, 1)\n",
        "W2"
      ]
    },
    {
      "cell_type": "markdown",
      "metadata": {
        "id": "xhr-sZlB6yrK"
      },
      "source": [
        "> ## 5) y_hat (4 * 1)"
      ]
    },
    {
      "cell_type": "code",
      "execution_count": null,
      "metadata": {
        "colab": {
          "base_uri": "https://localhost:8080/"
        },
        "id": "hBqliGGX6cD3",
        "outputId": "7d89e7f5-1b16-4a50-9155-259a535a0441"
      },
      "outputs": [
        {
          "data": {
            "text/plain": [
              "array([[0.844],\n",
              "       [0.886],\n",
              "       [0.139],\n",
              "       [0.061]])"
            ]
          },
          "execution_count": 7,
          "metadata": {},
          "output_type": "execute_result"
        }
      ],
      "source": [
        "np.random.seed(2045)\n",
        "y_hat = np.random.rand(4).reshape(4, 1)\n",
        "\n",
        "y_hat"
      ]
    },
    {
      "cell_type": "markdown",
      "metadata": {
        "id": "isQgRrTIMzA3"
      },
      "source": [
        "> ## 6) Layer1 (4 * 4)\n",
        " - 행렬연산을 위해 shape를 맞춰줌"
      ]
    },
    {
      "cell_type": "code",
      "execution_count": null,
      "metadata": {
        "colab": {
          "base_uri": "https://localhost:8080/"
        },
        "id": "R_bIu-3eM0kk",
        "outputId": "8cf94804-f20d-42f7-df60-22c44980e4b1"
      },
      "outputs": [
        {
          "data": {
            "text/plain": [
              "array([[1., 1., 1., 1.],\n",
              "       [1., 1., 1., 1.],\n",
              "       [1., 1., 1., 1.],\n",
              "       [1., 1., 1., 1.]])"
            ]
          },
          "execution_count": 8,
          "metadata": {},
          "output_type": "execute_result"
        }
      ],
      "source": [
        "Layer1 = np.ones([4, 4])\n",
        "\n",
        "Layer1"
      ]
    },
    {
      "cell_type": "markdown",
      "metadata": {
        "id": "r4i6wkzEdfMN"
      },
      "source": [
        "# II. 함수 정의"
      ]
    },
    {
      "cell_type": "markdown",
      "metadata": {
        "id": "r8RGZ6E88d5j"
      },
      "source": [
        "> ## 1) sigmoid( )\n",
        "\n",
        "* Activation Function"
      ]
    },
    {
      "cell_type": "code",
      "execution_count": null,
      "metadata": {
        "id": "CA-_CbvH8edI"
      },
      "outputs": [],
      "source": [
        "def sigmoid(x):\n",
        "    y_hat = 1 / (1 + np.exp(-x))\n",
        "    return y_hat"
      ]
    },
    {
      "cell_type": "markdown",
      "metadata": {
        "id": "DbjJb51U8nZs"
      },
      "source": [
        "> ## 2) d_sigmoid( )\n",
        "\n",
        "* sigmoid( ) 미분함수"
      ]
    },
    {
      "cell_type": "code",
      "execution_count": null,
      "metadata": {
        "id": "oOXLAPtD8wmm"
      },
      "outputs": [],
      "source": [
        "def d_sigmoid(x):\n",
        "    dy = x * (1.0 - x)\n",
        "    return dy"
      ]
    },
    {
      "cell_type": "markdown",
      "metadata": {
        "id": "Ywz_NwOs9ODg"
      },
      "source": [
        "> ## 3)Loss function\n",
        "\n",
        "* Mean Squared Error"
      ]
    },
    {
      "cell_type": "code",
      "execution_count": null,
      "metadata": {
        "id": "V3_BsSzkPKvk"
      },
      "outputs": [],
      "source": [
        "# def loss_function(y, y_hat):\n",
        "#   Loss = np.mean((y - y_hat) ** 2)\n",
        "#   return Loss "
      ]
    },
    {
      "cell_type": "markdown",
      "metadata": {
        "id": "ZgYQID-_PNnD"
      },
      "source": [
        "* Binary Cross Entropy Error"
      ]
    },
    {
      "cell_type": "code",
      "execution_count": null,
      "metadata": {
        "id": "CSgwchqY9RWu"
      },
      "outputs": [],
      "source": [
        "def loss_function(y, y_hat):\n",
        "  Loss = -np.mean((y * np.log(y_hat) + (1 - y) * np.log(1 - y_hat)))\n",
        "  return Loss "
      ]
    },
    {
      "cell_type": "markdown",
      "metadata": {
        "id": "spKqVZNMdrMk"
      },
      "source": [
        "# III. 순방향과 역방향 함수 정의"
      ]
    },
    {
      "cell_type": "markdown",
      "metadata": {
        "id": "B1HWVrzN9lVi"
      },
      "source": [
        "> ## 1) Forward_Propagation\n",
        "\n",
        "* Layer1 Output\n",
        " * Layer1 = sigmoid(np.dot(X, W1))\n",
        "* y_hat Output\n",
        " * y_hat = sigmoid(np.dot(Layer1, W2))"
      ]
    },
    {
      "cell_type": "code",
      "execution_count": null,
      "metadata": {
        "id": "ffWMkxvV9qkn"
      },
      "outputs": [],
      "source": [
        "def forwardProp(X, W1, Layer1, W2, y_hat):\n",
        "    Layer1 = sigmoid(np.dot(X, W1))\n",
        "    y_hat = sigmoid(np.dot(Layer1, W2))\n",
        "\n",
        "    return Layer1, y_hat"
      ]
    },
    {
      "cell_type": "markdown",
      "metadata": {
        "id": "eni1-a5N_n5B"
      },
      "source": [
        "> ## 2) Back_Propagation\n",
        "\n",
        "* d_W2\n",
        " * d_W2 = np.dot(Layer1, ((y_hat - y) * d_sigmoid(y_hat)))\n",
        "\n",
        "<br>\n",
        "\n",
        "* d_W1\n",
        " * d_W1 = np.dot(((y_hat - y) * d_sigmoid(y_hat)), np.transpose(W2))\n",
        " * d_W1 = d_W1 * d_sigmoid(Layer1)\n",
        " * d_W1 = np.dot(np.transpose(X), d_W1)\n",
        "\n",
        "<br>\n",
        "\n",
        "* Gradient Descent\n",
        " * W1 = W1 - 0.8 * d_W1\n",
        " * W2 = W2 - 0.8 * d_W2"
      ]
    },
    {
      "cell_type": "code",
      "execution_count": null,
      "metadata": {
        "id": "L-s2Q9ZS_rcp"
      },
      "outputs": [],
      "source": [
        "def backProp(X, y, y_hat, Layer1, W1, W2):\n",
        "    d_W2 = np.dot(Layer1, ((y_hat - y) * d_sigmoid(y_hat)))\n",
        "\n",
        "    d_W1 = np.dot(((y_hat - y) * d_sigmoid(y_hat)), np.transpose(W2))\n",
        "    d_W1 = d_W1 * d_sigmoid(Layer1)\n",
        "    d_W1 = np.dot(np.transpose(X), d_W1)\n",
        "\n",
        "    W1 = W1 - 0.8 * d_W1\n",
        "    W2 = W2 - 0.8 * d_W2\n",
        "\n",
        "    return y_hat, Layer1, W1, W2"
      ]
    },
    {
      "cell_type": "markdown",
      "metadata": {
        "id": "28scK_MSd5-G"
      },
      "source": [
        "# IV. 오차역전파를 적용한 Gradient Descent"
      ]
    },
    {
      "cell_type": "markdown",
      "metadata": {
        "id": "tigTsny7DP0A"
      },
      "source": [
        "* 학습 과정의 Loss 값 저장 객체"
      ]
    },
    {
      "cell_type": "code",
      "execution_count": null,
      "metadata": {
        "id": "2sGaiVlkDdQO"
      },
      "outputs": [],
      "source": [
        "Loss_Record = []"
      ]
    },
    {
      "cell_type": "markdown",
      "metadata": {
        "id": "flESZiq1C_NY"
      },
      "source": [
        "> ## 1) Learning with Error Backpropagation"
      ]
    },
    {
      "cell_type": "code",
      "execution_count": null,
      "metadata": {
        "id": "DUbWjBSlBhQw"
      },
      "outputs": [],
      "source": [
        "for k in range(0, 2000):\n",
        "    Layer1, y_hat = forwardProp(X, W1, Layer1, W2, y_hat)\n",
        "    y_hat, Layer1, W1, W2 = backProp(X, y, y_hat, Layer1, W1, W2)\n",
        "    \n",
        "    Loss_Record.append(loss_function(y, y_hat))"
      ]
    },
    {
      "cell_type": "markdown",
      "metadata": {
        "id": "UyL7tvEmeKzJ"
      },
      "source": [
        "> ## 2) Parameter Update Check"
      ]
    },
    {
      "cell_type": "markdown",
      "metadata": {
        "id": "DBArPzO-eVJ8"
      },
      "source": [
        "* W1"
      ]
    },
    {
      "cell_type": "code",
      "execution_count": null,
      "metadata": {
        "colab": {
          "base_uri": "https://localhost:8080/"
        },
        "id": "uYEZADiXCcLH",
        "outputId": "e649d9bf-d3a5-4153-c4b8-021a9f95ba8c"
      },
      "outputs": [
        {
          "data": {
            "text/plain": [
              "array([[ 4.249, -3.19 ,  5.47 ,  2.429],\n",
              "       [ 3.185, -3.703,  6.202,  2.731],\n",
              "       [-5.472,  0.857, -2.302, -3.605]])"
            ]
          },
          "execution_count": 17,
          "metadata": {},
          "output_type": "execute_result"
        }
      ],
      "source": [
        "W1"
      ]
    },
    {
      "cell_type": "markdown",
      "metadata": {
        "id": "yHWhOX6keZvk"
      },
      "source": [
        "* W2"
      ]
    },
    {
      "cell_type": "code",
      "execution_count": null,
      "metadata": {
        "colab": {
          "base_uri": "https://localhost:8080/"
        },
        "id": "Q0I414HKCfKE",
        "outputId": "369b4ebe-8298-4cd6-fe5e-4c1184db387e"
      },
      "outputs": [
        {
          "data": {
            "text/plain": [
              "array([[-2.247],\n",
              "       [-5.244],\n",
              "       [ 6.988],\n",
              "       [-9.85 ]])"
            ]
          },
          "execution_count": 18,
          "metadata": {},
          "output_type": "execute_result"
        }
      ],
      "source": [
        "W2"
      ]
    },
    {
      "cell_type": "markdown",
      "metadata": {
        "id": "acz3_Hq3eeHq"
      },
      "source": [
        "* y_hat"
      ]
    },
    {
      "cell_type": "code",
      "execution_count": null,
      "metadata": {
        "colab": {
          "base_uri": "https://localhost:8080/"
        },
        "id": "Q1onLUgqCiLc",
        "outputId": "7d6aa827-89dd-43d9-8e48-1b37c0c9ab50"
      },
      "outputs": [
        {
          "data": {
            "text/plain": [
              "array([[0.035],\n",
              "       [0.969],\n",
              "       [0.968],\n",
              "       [0.042]])"
            ]
          },
          "execution_count": 19,
          "metadata": {},
          "output_type": "execute_result"
        }
      ],
      "source": [
        "# y_hat.round()\n",
        "\n",
        "y_hat"
      ]
    },
    {
      "cell_type": "markdown",
      "metadata": {
        "id": "Be6tJqzueP5W"
      },
      "source": [
        "> ## 3) Visualization"
      ]
    },
    {
      "cell_type": "code",
      "execution_count": null,
      "metadata": {
        "colab": {
          "base_uri": "https://localhost:8080/",
          "height": 374
        },
        "id": "zcq_q33bEgme",
        "outputId": "37b1e52d-d00e-413f-e497-1473731b4797"
      },
      "outputs": [
        {
          "data": {
            "image/png": "[encoded data removed]",
            "text/plain": [
              "<Figure size 648x432 with 1 Axes>"
            ]
          },
          "metadata": {
            "needs_background": "light"
          },
          "output_type": "display_data"
        }
      ],
      "source": [
        "import matplotlib.pyplot as plt\n",
        "\n",
        "plt.figure(figsize = (9, 6))\n",
        "plt.plot(Loss_Record)\n",
        "plt.show()"
      ]
    },
    {
      "cell_type": "markdown",
      "metadata": {
        "id": "-FApr_T2eleb"
      },
      "source": [
        "# \n",
        "# \n",
        "# \n",
        "# The End\n",
        "# \n",
        "# \n",
        "# "
      ]
    }
  ],
  "metadata": {
    "colab": {
      "collapsed_sections": [
        "-FApr_T2eleb"
      ],
      "provenance": []
    },
    "kernelspec": {
      "display_name": "Python 3",
      "language": "python",
      "name": "python3"
    },
    "language_info": {
      "name": "python",
      "version": "3.10.6"
    },
    "vscode": {
      "interpreter": {
        "hash": "9c4a217330dafb44a177311bf304eb7602117568170dedb9db52856e3c583233"
      }
    }
  },
  "nbformat": 4,
  "nbformat_minor": 0
}
