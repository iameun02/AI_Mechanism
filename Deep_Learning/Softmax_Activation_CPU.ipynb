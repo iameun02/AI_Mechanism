{
  "cells": [
    {
      "attachments": {},
      "cell_type": "markdown",
      "metadata": {
        "id": "kXbG4nrHCDne"
      },
      "source": [
        "# <b>Softmax</b>\n",
        "\n",
        "<b>[개요]</b>\n",
        "  - hidden layer에는 적용하지않고, 다진분류의 output layer에만 적용\n",
        "\n",
        "<b>[함수식]</b> <BR>\n",
        "  - 𝐟(𝐱𝚔) = 𝒆𝒙𝒑(𝒙𝚔 - 𝒎) / ∑ exp(𝒙𝑖 - 𝒎)\n",
        "  - 𝒎 = max(𝒙𝚔)\n",
        "  - 개별확률 / 각각의 확률합으로 나누어 <br> \n",
        "    다진분류인 경우에는 softmax가 훨씬 효율적이다 <br> \n",
        "\n",
        "<br> \n",
        "\n",
        "<b>['Sigmoid' vs 'Softmax']</b>\n",
        "- 둘다 0~ 1 사이의 확률 결과값이 나온다.\n",
        "- 단 Softmax 는 전체 출력값이 합이 1이 되어야하기 때문에 학습효과가 증가(한개의 출력 결과값이 다른 결과값에 영향을 주어 경사하강에 긍적적인 효과를 준다)\n",
        "- Sigmoid 함수의 출력값이 각각 ```독립적```으로 0~1 값을 가짐\n",
        "\n",
        "<br> \n",
        "\n",
        "\n",
        "<b>[LOSS]</b> <BR>\n",
        " - 이진분류 (0,1를 맞춤)<BR>\n",
        "  ```-y * log(yhat) - (1-y) * log(1- yhat)```\n",
        "\n",
        " - 다진분류(0일 경우가 없기에 ,1만 맞추면 됨 → 이진분류의 뒷식제거)<BR>\n",
        "  ```-y * log(y hat)```\n",
        "\n",
        "<BR>\n",
        "\n",
        "MSE VS CEE  <BR>\n",
        "- y = [0,1,0]<BR>\n",
        "  yhat =  [0.1, 0.7 ,0.2]<BR><BR>\n",
        "- MSE : (0 - 0.1)² + (1-  0.7)² + (0 - 0.2)²) / 3 <BR>\n",
        "- CEE : - 0*log(0.1) - 1*log(0.7) - 0*log(0.2)\n",
        "     = - 1*log(0.7) <br>\n",
        "     → 나머지 식이 0과 곱해져 제거됨으로써 식이 굉장히 간단해짐\n",
        "\n",
        "<BR>\n",
        "\n",
        " - 결론 : 다진분류일 경우 Class가 많아지기 때문에, <BR>\n",
        "MSE 에러식을 쓰는것 보다 CEE에러식이 훨씬 정확하고 속도가 더 빠르다. <BR> (참고로 원 핫 인코딩하는 이유 또한 1이 있는 행렬에 있는 숫자만 연산하면 되게 되니까 효율적이게 연산을 해주는 역할을 하여 같은 흐름에서 이해할 수 있다.)"
      ]
    },
    {
      "cell_type": "markdown",
      "metadata": {
        "id": "jJ-fOZ-gsltY"
      },
      "source": [
        "# Softmax Activation"
      ]
    },
    {
      "cell_type": "code",
      "execution_count": 1,
      "metadata": {
        "id": "RbPgODpVzdHI",
        "vscode": {
          "languageId": "python"
        }
      },
      "outputs": [],
      "source": [
        "import warnings\n",
        "warnings.filterwarnings('ignore')"
      ]
    },
    {
      "cell_type": "markdown",
      "metadata": {
        "id": "Xhi1blOStA9s"
      },
      "source": [
        "> ## 1) sigmoid( ) & softmax( ) 정의"
      ]
    },
    {
      "cell_type": "markdown",
      "metadata": {
        "id": "Pzl4hOMItH7-"
      },
      "source": [
        "* sigmoid( )"
      ]
    },
    {
      "cell_type": "code",
      "execution_count": 2,
      "metadata": {
        "id": "y0ONjTJqsaCR",
        "vscode": {
          "languageId": "python"
        }
      },
      "outputs": [],
      "source": [
        "import numpy as np\n",
        "\n",
        "def sigmoid(x):\n",
        "    y_hat = 1 / (1 + np.exp(-x))\n",
        "    return y_hat"
      ]
    },
    {
      "cell_type": "markdown",
      "metadata": {
        "id": "qVl0OhyfY65L"
      },
      "source": [
        "* sigmoid( ) 시각화"
      ]
    },
    {
      "cell_type": "code",
      "execution_count": 3,
      "metadata": {
        "colab": {
          "base_uri": "https://localhost:8080/",
          "height": 374
        },
        "id": "xAdS8xnFY-Bl",
        "outputId": "d8eb9213-91aa-40d4-c062-35f0bc362d5a",
        "vscode": {
          "languageId": "python"
        }
      },
      "outputs": [
        {
          "data": {
            "image/png": "[encoded data removed]",
            "text/plain": [
              "<Figure size 648x432 with 1 Axes>"
            ]
          },
          "metadata": {
            "needs_background": "light"
          },
          "output_type": "display_data"
        }
      ],
      "source": [
        "import matplotlib.pyplot as plt\n",
        "\n",
        "n = np.linspace(-10.0, 10.0, 2000)\n",
        "\n",
        "plt.figure(figsize = (9, 6))\n",
        "plt.plot(n, sigmoid(n))\n",
        "plt.show()"
      ]
    },
    {
      "cell_type": "markdown",
      "metadata": {
        "id": "6a4lJs38tLhX"
      },
      "source": [
        "* softmax( )"
      ]
    },
    {
      "cell_type": "code",
      "execution_count": 4,
      "metadata": {
        "id": "OFVeLSXqskA5",
        "vscode": {
          "languageId": "python"
        }
      },
      "outputs": [],
      "source": [
        "def softmax(x):\n",
        "    m = np.max(x)\n",
        "    sm = np.exp(x - m)/np.sum(np.exp(x - m))\n",
        "    return sm"
      ]
    },
    {
      "cell_type": "markdown",
      "metadata": {
        "id": "OTP7N5eHYKkV"
      },
      "source": [
        "* softmax( ) 시각화"
      ]
    },
    {
      "cell_type": "code",
      "execution_count": 5,
      "metadata": {
        "colab": {
          "base_uri": "https://localhost:8080/",
          "height": 374
        },
        "id": "6VcPqT7OYRVE",
        "outputId": "8dd08049-2173-4e9b-cd9d-f6f0c4567f49",
        "vscode": {
          "languageId": "python"
        }
      },
      "outputs": [
        {
          "data": {
            "image/png": "[encoded data removed]",
            "text/plain": [
              "<Figure size 648x432 with 1 Axes>"
            ]
          },
          "metadata": {
            "needs_background": "light"
          },
          "output_type": "display_data"
        }
      ],
      "source": [
        "import matplotlib.pyplot as plt\n",
        "\n",
        "n = np.linspace(-10.0, 10.0, 2000)\n",
        "\n",
        "plt.figure(figsize = (9, 6))\n",
        "plt.plot(n, softmax(n))\n",
        "plt.show()"
      ]
    },
    {
      "cell_type": "markdown",
      "metadata": {
        "id": "mqCLHfAFtQgH"
      },
      "source": [
        "> ## 2) sigmoid( ) vs. softmax( ) 결과 비교"
      ]
    },
    {
      "cell_type": "markdown",
      "metadata": {
        "id": "Pdo2vogJuFaF"
      },
      "source": [
        "* 가상의 y_hat"
      ]
    },
    {
      "cell_type": "code",
      "execution_count": 6,
      "metadata": {
        "id": "pdstsjUrtXl0",
        "vscode": {
          "languageId": "python"
        }
      },
      "outputs": [],
      "source": [
        "y_hat = np.array([5.2, 4.8, 5.0]) #activation 적용 전 의 값"
      ]
    },
    {
      "cell_type": "markdown",
      "metadata": {
        "id": "94oYcUh1wGSM"
      },
      "source": [
        "* Sigmoid Activation 적용"
      ]
    },
    {
      "cell_type": "code",
      "execution_count": 7,
      "metadata": {
        "colab": {
          "base_uri": "https://localhost:8080/"
        },
        "id": "rSlY9u22thXG",
        "outputId": "a1f2ccc1-7dcb-46b8-83b7-27586d328d87",
        "vscode": {
          "languageId": "python"
        }
      },
      "outputs": [
        {
          "name": "stdout",
          "output_type": "stream",
          "text": [
            "[0.99451 0.99184 0.99331]\n",
            "2.97966\n"
          ]
        }
      ],
      "source": [
        "np.set_printoptions(suppress = True, precision = 5)\n",
        "\n",
        "print(sigmoid(y_hat))\n",
        "print('%.5f' % np.sum(sigmoid(y_hat)))"
      ]
    },
    {
      "cell_type": "markdown",
      "metadata": {
        "id": "gLj_s_JuwKTD"
      },
      "source": [
        "* Softmax Activation 적용"
      ]
    },
    {
      "cell_type": "code",
      "execution_count": 8,
      "metadata": {
        "colab": {
          "base_uri": "https://localhost:8080/"
        },
        "id": "hRbTe-hItkGG",
        "outputId": "7a0f0c66-3b8a-48c1-e390-1cfef8daf3af",
        "vscode": {
          "languageId": "python"
        }
      },
      "outputs": [
        {
          "name": "stdout",
          "output_type": "stream",
          "text": [
            "[0.40176 0.26931 0.32893]\n",
            "1.00000\n"
          ]
        }
      ],
      "source": [
        "np.set_printoptions(suppress = True)\n",
        "\n",
        "print(softmax(y_hat))\n",
        "print('%.5f' % np.sum(softmax(y_hat)))"
      ]
    },
    {
      "cell_type": "markdown",
      "metadata": {
        "id": "XAeK-bzncfvb"
      },
      "source": [
        "> ## 3) 추가 학습 진행 후 변화 비교"
      ]
    },
    {
      "cell_type": "markdown",
      "metadata": {
        "id": "ILeYBys7wO0t"
      },
      "source": [
        "* 가상의 y_hat 업데이트"
      ]
    },
    {
      "cell_type": "code",
      "execution_count": null,
      "metadata": {
        "id": "GyK6c-9UwXMw",
        "vscode": {
          "languageId": "python"
        }
      },
      "outputs": [],
      "source": [
        "y_hat = np.array([3.8, 1.4, 0.5])"
      ]
    },
    {
      "cell_type": "markdown",
      "metadata": {
        "id": "nEylcUlxbsVT"
      },
      "source": [
        "* Sigmoid Activation 재적용"
      ]
    },
    {
      "cell_type": "code",
      "execution_count": null,
      "metadata": {
        "colab": {
          "base_uri": "https://localhost:8080/"
        },
        "id": "EzH3A_PcwjkO",
        "outputId": "3b95f2b9-a91f-445a-ce31-eca0999ecb40",
        "vscode": {
          "languageId": "python"
        }
      },
      "outputs": [
        {
          "name": "stdout",
          "output_type": "stream",
          "text": [
            "[0.97812 0.80218 0.62246]\n",
            "2.40276\n"
          ]
        }
      ],
      "source": [
        "print(sigmoid(y_hat))\n",
        "print('%.5f' % np.sum(sigmoid(y_hat)))"
      ]
    },
    {
      "cell_type": "markdown",
      "metadata": {
        "id": "Q_nrc7efwwkn"
      },
      "source": [
        "* Softmax Activation 재적용"
      ]
    },
    {
      "cell_type": "code",
      "execution_count": null,
      "metadata": {
        "colab": {
          "base_uri": "https://localhost:8080/"
        },
        "id": "0g6CtoIEwn-J",
        "outputId": "41241ed9-80aa-449a-f318-7378c3e70000",
        "vscode": {
          "languageId": "python"
        }
      },
      "outputs": [
        {
          "name": "stdout",
          "output_type": "stream",
          "text": [
            "[0.88684 0.08045 0.03271]\n",
            "1.00000\n"
          ]
        }
      ],
      "source": [
        "print(softmax(y_hat))\n",
        "print('%.5f' % np.sum(softmax(y_hat)))"
      ]
    },
    {
      "cell_type": "markdown",
      "metadata": {
        "id": "CG0gWWIdtUy4"
      },
      "source": [
        "# \n",
        "# \n",
        "# \n",
        "# The End\n",
        "# \n",
        "# \n",
        "# "
      ]
    }
  ],
  "metadata": {
    "colab": {
      "provenance": []
    },
    "kernelspec": {
      "display_name": "Python 3",
      "name": "python3"
    }
  },
  "nbformat": 4,
  "nbformat_minor": 0
}
