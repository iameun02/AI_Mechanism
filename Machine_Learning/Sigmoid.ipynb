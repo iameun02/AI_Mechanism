{
  "cells": [
    {
      "cell_type": "markdown",
      "metadata": {
        "id": "Ml-hcS25cMbV"
      },
      "source": [
        "# Sigmoid Function"
      ]
    },
    {
      "cell_type": "markdown",
      "metadata": {
        "id": "wYlcTHO-77pJ"
      },
      "source": [
        "𝒔𝒊𝒈𝒎𝒐𝒊𝒅(𝒙) <br>\n",
        "= 𝒆^𝒙 / (𝟏 + 𝒆^𝒙) <br>\n",
        "= 𝟏 / 𝟏 + 𝒆^(−𝒙) <br>\n",
        "\n",
        "\n",
        "<br><br>\n",
        "𝒔𝒊𝒈𝒎𝒐𝒊𝒅(𝒙)  = 𝟏  \n",
        "𝟏 + 𝒆^(−𝒙)  >\t𝒙가 무한대로 커지면 0에 가까워짐 <br>\n",
        "(𝟏 + 𝒆^𝒙) > 𝒙가 무한대로 커지면 1에 가까워짐 <br>\n",
        "\n",
        "𝒔𝒊𝒈𝒎𝒐𝒊𝒅(0) = 모든 숫자의 0승은 1이므로 0.5 <br><BR>\n",
        "\n",
        "(참고)<br>\n",
        "∞ - ∞ = ∞ <BR>\n",
        "∞ + ∞ = ∞ <BR>\n",
        "Exponential(자연상수): 2.71<BR>\n"
      ]
    },
    {
      "cell_type": "code",
      "execution_count": null,
      "metadata": {
        "id": "RbPgODpVzdHI"
      },
      "outputs": [],
      "source": [
        "import warnings\n",
        "warnings.filterwarnings('ignore')"
      ]
    },
    {
      "cell_type": "markdown",
      "metadata": {
        "id": "e94ajqtOd4mo"
      },
      "source": [
        "# I. Sigmoid Activation"
      ]
    },
    {
      "cell_type": "markdown",
      "metadata": {
        "id": "nd0OUYx6d-K8"
      },
      "source": [
        "> ## 1) sigmoid( ) 정의"
      ]
    },
    {
      "cell_type": "code",
      "execution_count": null,
      "metadata": {
        "id": "_ZTeoeQWcF7P"
      },
      "outputs": [],
      "source": [
        "import numpy as np\n",
        "\n",
        "def sigmoid(x):\n",
        "    y_hat = 1 / (1 + np.exp(-x))\n",
        "    return y_hat"
      ]
    },
    {
      "cell_type": "markdown",
      "metadata": {
        "id": "TenZUEcNeKjI"
      },
      "source": [
        "> ## 2) sigmoid( ) 실행"
      ]
    },
    {
      "cell_type": "code",
      "execution_count": null,
      "metadata": {
        "colab": {
          "base_uri": "https://localhost:8080/"
        },
        "id": "Z91VjrDyeHBZ",
        "outputId": "55094e7d-00f9-48de-8f4c-f938b44533e6"
      },
      "outputs": [
        {
          "data": {
            "text/plain": [
              "0.5"
            ]
          },
          "execution_count": 3,
          "metadata": {},
          "output_type": "execute_result"
        }
      ],
      "source": [
        "sigmoid(0)"
      ]
    },
    {
      "cell_type": "code",
      "execution_count": null,
      "metadata": {
        "colab": {
          "base_uri": "https://localhost:8080/"
        },
        "id": "huevkNm1eSKQ",
        "outputId": "7ccb27e8-4b64-47e9-a8dc-458381c2a617"
      },
      "outputs": [
        {
          "data": {
            "text/plain": [
              "1.0"
            ]
          },
          "execution_count": 4,
          "metadata": {},
          "output_type": "execute_result"
        }
      ],
      "source": [
        "sigmoid(100000000)"
      ]
    },
    {
      "cell_type": "code",
      "execution_count": null,
      "metadata": {
        "colab": {
          "base_uri": "https://localhost:8080/"
        },
        "id": "xooYw3aMeZA5",
        "outputId": "8737fbdb-e1ab-4661-8917-2de3e24e17cb"
      },
      "outputs": [
        {
          "data": {
            "text/plain": [
              "0.0"
            ]
          },
          "execution_count": 5,
          "metadata": {},
          "output_type": "execute_result"
        }
      ],
      "source": [
        "sigmoid(-100000000)"
      ]
    },
    {
      "cell_type": "markdown",
      "metadata": {
        "id": "24_1baZge5A7"
      },
      "source": [
        "> ## 3) sigmoid( ) 시각화"
      ]
    },
    {
      "cell_type": "code",
      "execution_count": null,
      "metadata": {
        "colab": {
          "base_uri": "https://localhost:8080/",
          "height": 374
        },
        "id": "THtaVnf5e8rH",
        "outputId": "f5256aac-a64d-44a5-de6d-b85ad729f892"
      },
      "outputs": [
        {
          "data": {
            "image/png": "[encoded data removed]",
            "text/plain": [
              "<Figure size 648x432 with 1 Axes>"
            ]
          },
          "metadata": {
            "needs_background": "light"
          },
          "output_type": "display_data"
        }
      ],
      "source": [
        "import matplotlib.pyplot as plt\n",
        "\n",
        "n = np.linspace(-10.0, 10.0, 2000)\n",
        "\n",
        "plt.figure(figsize = (9, 6))\n",
        "plt.plot(n, sigmoid(n))\n",
        "plt.show()"
      ]
    },
    {
      "cell_type": "markdown",
      "metadata": {
        "id": "u4EBM5Pt3R7N"
      },
      "source": [
        "# \n",
        "# \n",
        "# \n",
        "# The End\n",
        "# \n",
        "# \n",
        "# "
      ]
    }
  ],
  "metadata": {
    "colab": {
      "provenance": []
    },
    "kernelspec": {
      "display_name": "Python 3",
      "language": "python",
      "name": "python3"
    },
    "language_info": {
      "name": "python",
      "version": "3.10.6"
    },
    "vscode": {
      "interpreter": {
        "hash": "9c4a217330dafb44a177311bf304eb7602117568170dedb9db52856e3c583233"
      }
    }
  },
  "nbformat": 4,
  "nbformat_minor": 0
}
